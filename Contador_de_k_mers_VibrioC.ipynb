{
  "nbformat": 4,
  "nbformat_minor": 0,
  "metadata": {
    "colab": {
      "name": "Contador de k-mers_VibrioC.ipynb",
      "provenance": [],
      "authorship_tag": "ABX9TyNJAsGg8K72xKyrsg8025Vz",
      "include_colab_link": true
    },
    "kernelspec": {
      "name": "python3",
      "display_name": "Python 3"
    }
  },
  "cells": [
    {
      "cell_type": "markdown",
      "metadata": {
        "id": "view-in-github",
        "colab_type": "text"
      },
      "source": [
        "<a href=\"https://colab.research.google.com/github/theinem/Conteo-de-k-mers-en-Vibrio-cholerae/blob/master/Contador_de_k_mers_VibrioC.ipynb\" target=\"_parent\"><img src=\"https://colab.research.google.com/assets/colab-badge.svg\" alt=\"Open In Colab\"/></a>"
      ]
    },
    {
      "cell_type": "markdown",
      "metadata": {
        "id": "jMS0_VJJOeem",
        "colab_type": "text"
      },
      "source": [
        "# Serie de nucleótidos más frecuentes en Vibrio Cholerae\n",
        "\n",
        "Esta estrategia permite encontrar cantidatos para la selección del origen dentro de la cadena de ADN de Vibrio cholerae. \n",
        "\n",
        "Este código no busca ser una solución definitiva, sino una muestra de pasos básicos.\n",
        "\n",
        "Los conteos son susceptibles de ser optimizados."
      ]
    },
    {
      "cell_type": "code",
      "metadata": {
        "id": "PD8GEqkoOX2T",
        "colab_type": "code",
        "colab": {}
      },
      "source": [
        "# Copy your updated FrequentWords function (along with all required subroutines) below this line\n",
        "# Entrada: Text y un valor k\n",
        "# Output: lista con los k-mers más frecuentes\n",
        "\n",
        "def PatternCount(Text, Pattern):\n",
        "    count = 0\n",
        "    for i in range(len(Text)-len(Pattern)+1):\n",
        "        if Text[i:i+len(Pattern)] == Pattern:\n",
        "            count = count+1\n",
        "    return count \n",
        "\n",
        "def FrequencyMap(Text, k):\n",
        "    # your code here\n",
        "    freq = {}\n",
        "    n = len(Text)\n",
        "    for i in range(n-k+1):\n",
        "        Pattern = Text[i:i+k]\n",
        "        freq[Pattern] = 0\n",
        "    # hint: your code goes here!\n",
        "        freq[Pattern] = PatternCount(Text, Pattern)\n",
        "    return freq\n",
        "\n",
        "def FrequentWords(Text, k):\n",
        "    words = []\n",
        "    freq = FrequencyMap(Text, k)\n",
        "    m = max(freq.values())\n",
        "    for key in freq:\n",
        "        if freq[key] == m:\n",
        "            words.append(key)\n",
        "        # add each key to words whose corresponding frequency value is equal to m\n",
        "    return words, freq"
      ],
      "execution_count": 0,
      "outputs": []
    },
    {
      "cell_type": "markdown",
      "metadata": {
        "id": "YVU7QeyCOrBv",
        "colab_type": "text"
      },
      "source": [
        "### Pruebas"
      ]
    },
    {
      "cell_type": "code",
      "metadata": {
        "id": "gVBsXn5yOqt6",
        "colab_type": "code",
        "colab": {
          "base_uri": "https://localhost:8080/",
          "height": 421
        },
        "outputId": "04bdca80-ab4d-4029-e08c-87d8eb46265f"
      },
      "source": [
        "# Now set Text equal to the Vibrio cholerae oriC and k equal to 10\n",
        "Text = 'TCAATGATCAACGTAAGCTTCTAAGCATGATCAAGGTGCTCACACAGTTTATCCACAACCTGAGTGGATGACATCAAGATAGGTCGTTGTATCTCCTTCCTCTCGTACTCTCATGACCACGGAAAGATGATCAAGAGAGGATGATTTCTTGGCCATATCGCAATGAATACTTGTGACTTGTGCTTCCAATTGACATCTTCAGCGCCATATTGCGCTGGCCAAGGTGACGGAGCGGGATTACGAAAGCATGATCATGGCTGTTGTTCTGTTTATCTTGTTTTGACTGAGACTTGTTAGGATAGACGGTTTTTCATCACTGACTAGCCAAAGCCTTACTCTGCCTGACATCGACCGTAAATTGATAATGAATTTACATGCTTCCGCGACGATTTACCTCTTGATCATCGATCCGATTGAAGATCTTCAATTGTTAATTCTCTTGCCTCGACTCATAGCCATGATGAGCTCTTGATCATGTTTCCTTAACCCTCTATTTTTTACGGAAGAATGATCAAGCTGCTGCTCTTGATCATCGTTTC'\n",
        "\n",
        "for k in range(1,12):\n",
        "  words, freq = FrequentWords(Text, k)\n",
        "  print(str(k) + ': ' + str(words) + '. freq: ' + str(freq[words[0]]) + '\\n=========================' )\n",
        "# Finally, print the result of calling FrequentWords on Text and k.\n"
      ],
      "execution_count": 18,
      "outputs": [
        {
          "output_type": "stream",
          "text": [
            "1: ['T']. freq: 174\n",
            "=========================\n",
            "2: ['TT']. freq: 55\n",
            "=========================\n",
            "3: ['TGA']. freq: 25\n",
            "=========================\n",
            "4: ['ATGA']. freq: 12\n",
            "=========================\n",
            "5: ['TGATC', 'GATCA']. freq: 8\n",
            "=========================\n",
            "6: ['TGATCA']. freq: 8\n",
            "=========================\n",
            "7: ['ATGATCA']. freq: 5\n",
            "=========================\n",
            "8: ['ATGATCAA']. freq: 4\n",
            "=========================\n",
            "9: ['ATGATCAAG', 'CTCTTGATC', 'TCTTGATCA', 'CTTGATCAT']. freq: 3\n",
            "=========================\n",
            "10: ['CTCTTGATCA', 'TCTTGATCAT']. freq: 3\n",
            "=========================\n",
            "11: ['CTCTTGATCAT']. freq: 3\n",
            "=========================\n"
          ],
          "name": "stdout"
        }
      ]
    }
  ]
}